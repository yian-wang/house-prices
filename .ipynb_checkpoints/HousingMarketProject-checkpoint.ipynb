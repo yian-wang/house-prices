{
 "cells": [
  {
   "cell_type": "markdown",
   "metadata": {},
   "source": [
    "<h1> Title: SLR stuff"
   ]
  },
  {
   "cell_type": "markdown",
   "metadata": {},
   "source": [
    "<h3>Summary/Introduction</h3> ^^^^^^^^^^^^^^^^^^^^^^^^^^^^^; describe data, etc."
   ]
  },
  {
   "cell_type": "markdown",
   "metadata": {},
   "source": [
    "<h3> Importing Required Packages"
   ]
  },
  {
   "cell_type": "code",
   "execution_count": 250,
   "metadata": {},
   "outputs": [],
   "source": [
    "import pandas as pd\n",
    "import pylab as pl\n",
    "import numpy as np\n",
    "import seaborn as sns\n",
    "from sklearn.linear_model import LinearRegression\n",
    "from sklearn.metrics import mean_squared_error\n",
    "from sklearn.model_selection import train_test_split, cross_val_score, cross_val_predict\n",
    "import matplotlib.pyplot as plt\n",
    "%matplotlib inline"
   ]
  },
  {
   "cell_type": "markdown",
   "metadata": {},
   "source": [
    "<h3> Reading the Data"
   ]
  },
  {
   "cell_type": "code",
   "execution_count": 213,
   "metadata": {},
   "outputs": [
    {
     "data": {
      "text/html": [
       "<div>\n",
       "<style scoped>\n",
       "    .dataframe tbody tr th:only-of-type {\n",
       "        vertical-align: middle;\n",
       "    }\n",
       "\n",
       "    .dataframe tbody tr th {\n",
       "        vertical-align: top;\n",
       "    }\n",
       "\n",
       "    .dataframe thead th {\n",
       "        text-align: right;\n",
       "    }\n",
       "</style>\n",
       "<table border=\"1\" class=\"dataframe\">\n",
       "  <thead>\n",
       "    <tr style=\"text-align: right;\">\n",
       "      <th></th>\n",
       "      <th>Case_ID</th>\n",
       "      <th>sale price in $100000</th>\n",
       "      <th>list price in $100000</th>\n",
       "      <th>taxes</th>\n",
       "      <th>location</th>\n",
       "    </tr>\n",
       "  </thead>\n",
       "  <tbody>\n",
       "    <tr>\n",
       "      <th>0</th>\n",
       "      <td>1</td>\n",
       "      <td>16.750</td>\n",
       "      <td>15.99000</td>\n",
       "      <td>6683.0</td>\n",
       "      <td>O</td>\n",
       "    </tr>\n",
       "    <tr>\n",
       "      <th>1</th>\n",
       "      <td>2</td>\n",
       "      <td>9.300</td>\n",
       "      <td>9.99999</td>\n",
       "      <td>6119.0</td>\n",
       "      <td>O</td>\n",
       "    </tr>\n",
       "    <tr>\n",
       "      <th>2</th>\n",
       "      <td>3</td>\n",
       "      <td>10.380</td>\n",
       "      <td>10.80000</td>\n",
       "      <td>6477.0</td>\n",
       "      <td>O</td>\n",
       "    </tr>\n",
       "    <tr>\n",
       "      <th>3</th>\n",
       "      <td>4</td>\n",
       "      <td>11.325</td>\n",
       "      <td>11.99000</td>\n",
       "      <td>6500.0</td>\n",
       "      <td>O</td>\n",
       "    </tr>\n",
       "    <tr>\n",
       "      <th>4</th>\n",
       "      <td>5</td>\n",
       "      <td>11.500</td>\n",
       "      <td>11.69000</td>\n",
       "      <td>6494.0</td>\n",
       "      <td>O</td>\n",
       "    </tr>\n",
       "  </tbody>\n",
       "</table>\n",
       "</div>"
      ],
      "text/plain": [
       "   Case_ID  sale price in $100000  list price in $100000   taxes location\n",
       "0        1                 16.750               15.99000  6683.0        O\n",
       "1        2                  9.300                9.99999  6119.0        O\n",
       "2        3                 10.380               10.80000  6477.0        O\n",
       "3        4                 11.325               11.99000  6500.0        O\n",
       "4        5                 11.500               11.69000  6494.0        O"
      ]
     },
     "execution_count": 213,
     "metadata": {},
     "output_type": "execute_result"
    }
   ],
   "source": [
    "df = pd.read_csv(\"reale.csv\")\n",
    "df.head()"
   ]
  },
  {
   "cell_type": "markdown",
   "metadata": {},
   "source": [
    "We want to see how many rows/columns are in the original dataset. From below, we see that there are 163 rows and 5 columns."
   ]
  },
  {
   "cell_type": "code",
   "execution_count": 214,
   "metadata": {},
   "outputs": [
    {
     "data": {
      "text/plain": [
       "(163, 5)"
      ]
     },
     "execution_count": 214,
     "metadata": {},
     "output_type": "execute_result"
    }
   ],
   "source": [
    "df.shape"
   ]
  },
  {
   "cell_type": "code",
   "execution_count": 215,
   "metadata": {},
   "outputs": [
    {
     "data": {
      "text/html": [
       "<div>\n",
       "<style scoped>\n",
       "    .dataframe tbody tr th:only-of-type {\n",
       "        vertical-align: middle;\n",
       "    }\n",
       "\n",
       "    .dataframe tbody tr th {\n",
       "        vertical-align: top;\n",
       "    }\n",
       "\n",
       "    .dataframe thead th {\n",
       "        text-align: right;\n",
       "    }\n",
       "</style>\n",
       "<table border=\"1\" class=\"dataframe\">\n",
       "  <thead>\n",
       "    <tr style=\"text-align: right;\">\n",
       "      <th></th>\n",
       "      <th>Case_ID</th>\n",
       "      <th>sale_price</th>\n",
       "      <th>list_price</th>\n",
       "      <th>taxes</th>\n",
       "      <th>location</th>\n",
       "    </tr>\n",
       "  </thead>\n",
       "  <tbody>\n",
       "    <tr>\n",
       "      <th>0</th>\n",
       "      <td>1</td>\n",
       "      <td>16.750</td>\n",
       "      <td>15.99000</td>\n",
       "      <td>6683.0</td>\n",
       "      <td>O</td>\n",
       "    </tr>\n",
       "    <tr>\n",
       "      <th>1</th>\n",
       "      <td>2</td>\n",
       "      <td>9.300</td>\n",
       "      <td>9.99999</td>\n",
       "      <td>6119.0</td>\n",
       "      <td>O</td>\n",
       "    </tr>\n",
       "    <tr>\n",
       "      <th>2</th>\n",
       "      <td>3</td>\n",
       "      <td>10.380</td>\n",
       "      <td>10.80000</td>\n",
       "      <td>6477.0</td>\n",
       "      <td>O</td>\n",
       "    </tr>\n",
       "    <tr>\n",
       "      <th>3</th>\n",
       "      <td>4</td>\n",
       "      <td>11.325</td>\n",
       "      <td>11.99000</td>\n",
       "      <td>6500.0</td>\n",
       "      <td>O</td>\n",
       "    </tr>\n",
       "    <tr>\n",
       "      <th>4</th>\n",
       "      <td>5</td>\n",
       "      <td>11.500</td>\n",
       "      <td>11.69000</td>\n",
       "      <td>6494.0</td>\n",
       "      <td>O</td>\n",
       "    </tr>\n",
       "  </tbody>\n",
       "</table>\n",
       "</div>"
      ],
      "text/plain": [
       "   Case_ID  sale_price  list_price   taxes location\n",
       "0        1      16.750    15.99000  6683.0        O\n",
       "1        2       9.300     9.99999  6119.0        O\n",
       "2        3      10.380    10.80000  6477.0        O\n",
       "3        4      11.325    11.99000  6500.0        O\n",
       "4        5      11.500    11.69000  6494.0        O"
      ]
     },
     "execution_count": 215,
     "metadata": {},
     "output_type": "execute_result"
    }
   ],
   "source": [
    "realdf = df.rename(columns={'sale price in $100000': 'sale_price', 'list price in $100000': 'list_price'})\n",
    "realdf.head()"
   ]
  },
  {
   "cell_type": "markdown",
   "metadata": {},
   "source": [
    "<h3> Data Exploration and Cleaning"
   ]
  },
  {
   "cell_type": "code",
   "execution_count": 216,
   "metadata": {},
   "outputs": [
    {
     "data": {
      "image/png": "[encoded data removed]",
      "text/plain": [
       "<Figure size 648x144 with 1 Axes>"
      ]
     },
     "metadata": {
      "needs_background": "light"
     },
     "output_type": "display_data"
    }
   ],
   "source": [
    "plt.figure(figsize =(9,2))\n",
    "sns.boxplot(x='sale_price', color=\"#E9A7FD\", data=realdf)\n",
    "plt.title(\"Boxplot of Sale Price\")\n",
    "plt.xlabel(\"Sale Prices in $100000\")\n",
    "plt.show()"
   ]
  },
  {
   "cell_type": "markdown",
   "metadata": {},
   "source": [
    "Here we can see that the minimum and maximum points are well out of the range of the rest of the other datapoints and thus it is reasonable to remove them from the dataset. We first find these minimum and maximum values."
   ]
  },
  {
   "cell_type": "code",
   "execution_count": 217,
   "metadata": {},
   "outputs": [
    {
     "data": {
      "text/plain": [
       "(161, 5)"
      ]
     },
     "execution_count": 217,
     "metadata": {},
     "output_type": "execute_result"
    }
   ],
   "source": [
    "#find the min & max prices\n",
    "min_price=realdf['sale_price'].min()\n",
    "max_price=realdf['sale_price'].max()\n",
    "#drop the min & max prices\n",
    "realdf.drop(realdf.loc[realdf['sale_price']==min_price].index, inplace=True)\n",
    "realdf.drop(realdf.loc[realdf['sale_price']==max_price].index, inplace=True)\n",
    "#make sure the 2 rows were removed.\n",
    "realdf.shape"
   ]
  },
  {
   "cell_type": "code",
   "execution_count": 218,
   "metadata": {},
   "outputs": [
    {
     "data": {
      "image/png": "[encoded data removed]",
      "text/plain": [
       "<Figure size 576x288 with 3 Axes>"
      ]
     },
     "metadata": {
      "needs_background": "light"
     },
     "output_type": "display_data"
    }
   ],
   "source": [
    "fig, axs = plt.subplots(1, 3, figsize = (8,4))\n",
    "axs[0].hist(realdf['list_price'], color = \"lightblue\")\n",
    "axs[0].set_title(\"Histogram of List Price \\n in $100000\")\n",
    "axs[1].hist(realdf['sale_price'], color = \"#E9A7FD\")\n",
    "axs[1].set_title(\"Histogram of Sale Price \\n in $100000\")\n",
    "axs[2].hist(realdf['taxes'], color = \"pink\")\n",
    "axs[2].set_title(\"Histogram of Taxes\")\n",
    "fig.tight_layout()"
   ]
  },
  {
   "cell_type": "markdown",
   "metadata": {},
   "source": [
    "Now, we examine the variables 'list_price' and 'taxes' to see which is more reasonable to use as a predictor variable. We do this by drawing a scatterplot of the response variable, 'sale_price', against the two variables individually, and observing how linear the relationship is between them. \n",
    "\n",
    "#Since we want to observe "
   ]
  },
  {
   "cell_type": "code",
   "execution_count": 226,
   "metadata": {},
   "outputs": [
    {
     "data": {
      "image/png": "[encoded data removed]",
      "text/plain": [
       "<Figure size 504x432 with 2 Axes>"
      ]
     },
     "metadata": {
      "needs_background": "light"
     },
     "output_type": "display_data"
    }
   ],
   "source": [
    "import matplotlib.patches as mpatches\n",
    "fig, axs = plt.subplots(1,2, figsize = (7,6))\n",
    "\n",
    "colors = {'X':'#FFC425', 'O':'#9FD38A'}\n",
    "\n",
    "axs[0].scatter(realdf['list_price'], realdf['sale_price'], c=realdf['location'].apply(lambda x: colors[x]))\n",
    "axs[0].set_title(\"Scatterplot of Sale Price vs List Price\")\n",
    "axs[0].set(xlabel=\"List Price in $100000\", ylabel=\"Sale Price in $100000\")\n",
    "\n",
    "axs[1].scatter(realdf['taxes'], realdf['sale_price'], c=realdf['location'].apply(lambda x: colors[x]))\n",
    "axs[1].set_title(\"Scatterplot of Sale Price vs Taxes\")\n",
    "axs[1].set(xlabel=\"Taxes\", ylabel=\"Sale Price in $100000\")\n",
    "\n",
    "# build the legend\n",
    "red_patch = mpatches.Patch(color='#FFC425', label='X')\n",
    "blue_patch = mpatches.Patch(color='#9FD38A', label='O')\n",
    "patches = [red_patch, blue_patch]\n",
    "fig.legend(handles=patches,bbox_to_anchor=(1.05, 1), loc=2, borderaxespad=0., title = \"Neighborhood\")\n",
    "\n",
    "#show plots\n",
    "fig.tight_layout()"
   ]
  },
  {
   "cell_type": "markdown",
   "metadata": {},
   "source": [
    "Both are generally linear so linear is a good model for both; however, sale price vs list price is more linear so we will use this one for our model."
   ]
  },
  {
   "cell_type": "markdown",
   "metadata": {},
   "source": [
    "<h3> Creating Testing and Training Sets </h3>\n",
    "We'll use 'train_test_split' from sklearn.model_selection"
   ]
  },
  {
   "cell_type": "code",
   "execution_count": 253,
   "metadata": {},
   "outputs": [
    {
     "name": "stdout",
     "output_type": "stream",
     "text": [
      "CV MSEs: [-0.16355082 -0.43331403 -0.31530812 -0.41466105 -0.09103167 -0.20946705\n",
      " -0.30108994 -0.25828433 -0.01753687 -0.19337939]\n"
     ]
    },
    {
     "data": {
      "text/plain": [
       "-0.23976232749145657"
      ]
     },
     "execution_count": 253,
     "metadata": {},
     "output_type": "execute_result"
    }
   ],
   "source": [
    "x_train, x_test, y_train, y_test = train_test_split(realdf[['list_price']], realdf[['sale_price']], test_size = 0.2, random_state = 0)\n",
    "\n",
    "lr = LinearRegression()\n",
    "cv_mse = cross_val_score(lr, x_train, y_train, scoring='neg_mean_squared_error', cv=10)\n",
    "print('CV MSEs:', cv_mse)\n",
    "np.mean(cv_mse)"
   ]
  },
  {
   "cell_type": "markdown",
   "metadata": {},
   "source": [
    "MSE is low => good model..."
   ]
  },
  {
   "cell_type": "markdown",
   "metadata": {},
   "source": [
    "<h3> Building the Model"
   ]
  },
  {
   "cell_type": "markdown",
   "metadata": {},
   "source": [
    "<h3> Model Evaluation"
   ]
  },
  {
   "cell_type": "code",
   "execution_count": null,
   "metadata": {},
   "outputs": [],
   "source": []
  }
 ],
 "metadata": {
  "kernelspec": {
   "display_name": "Python 3",
   "language": "python",
   "name": "python3"
  },
  "language_info": {
   "codemirror_mode": {
    "name": "ipython",
    "version": 3
   },
   "file_extension": ".py",
   "mimetype": "text/x-python",
   "name": "python",
   "nbconvert_exporter": "python",
   "pygments_lexer": "ipython3",
   "version": "3.8.3"
  }
 },
 "nbformat": 4,
 "nbformat_minor": 4
}
