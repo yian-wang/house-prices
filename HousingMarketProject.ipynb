{
 "cells": [
  {
   "cell_type": "markdown",
   "metadata": {},
   "source": [
    "<h1> Using Simple Linear Regression to Predict Housing Prices"
   ]
  },
  {
   "cell_type": "markdown",
   "metadata": {},
   "source": [
    "<h3>Introduction</h3> \n",
    "This project builds a machine learning model using Simple Linear Regression to predict housing market sale prices in two neighbourhoods based on their list prices."
   ]
  },
  {
   "cell_type": "markdown",
   "metadata": {},
   "source": [
    "<h3> Importing Required Packages"
   ]
  },
  {
   "cell_type": "code",
   "execution_count": 2,
   "metadata": {},
   "outputs": [],
   "source": [
    "import pandas as pd\n",
    "import numpy as np\n",
    "from sklearn.linear_model import LinearRegression\n",
    "from sklearn.metrics import mean_squared_error\n",
    "from sklearn.model_selection import train_test_split, cross_val_score, cross_val_predict\n",
    "import matplotlib.pyplot as plt\n",
    "%matplotlib inline"
   ]
  },
  {
   "cell_type": "markdown",
   "metadata": {},
   "source": [
    "<h3> Reading the Data"
   ]
  },
  {
   "cell_type": "code",
   "execution_count": 3,
   "metadata": {},
   "outputs": [
    {
     "data": {
      "text/html": [
       "<div>\n",
       "<style scoped>\n",
       "    .dataframe tbody tr th:only-of-type {\n",
       "        vertical-align: middle;\n",
       "    }\n",
       "\n",
       "    .dataframe tbody tr th {\n",
       "        vertical-align: top;\n",
       "    }\n",
       "\n",
       "    .dataframe thead th {\n",
       "        text-align: right;\n",
       "    }\n",
       "</style>\n",
       "<table border=\"1\" class=\"dataframe\">\n",
       "  <thead>\n",
       "    <tr style=\"text-align: right;\">\n",
       "      <th></th>\n",
       "      <th>Case_ID</th>\n",
       "      <th>sale price in $100000</th>\n",
       "      <th>list price in $100000</th>\n",
       "      <th>taxes</th>\n",
       "      <th>location</th>\n",
       "    </tr>\n",
       "  </thead>\n",
       "  <tbody>\n",
       "    <tr>\n",
       "      <th>0</th>\n",
       "      <td>1</td>\n",
       "      <td>16.750</td>\n",
       "      <td>15.99000</td>\n",
       "      <td>6683.0</td>\n",
       "      <td>O</td>\n",
       "    </tr>\n",
       "    <tr>\n",
       "      <th>1</th>\n",
       "      <td>2</td>\n",
       "      <td>9.300</td>\n",
       "      <td>9.99999</td>\n",
       "      <td>6119.0</td>\n",
       "      <td>O</td>\n",
       "    </tr>\n",
       "    <tr>\n",
       "      <th>2</th>\n",
       "      <td>3</td>\n",
       "      <td>10.380</td>\n",
       "      <td>10.80000</td>\n",
       "      <td>6477.0</td>\n",
       "      <td>O</td>\n",
       "    </tr>\n",
       "    <tr>\n",
       "      <th>3</th>\n",
       "      <td>4</td>\n",
       "      <td>11.325</td>\n",
       "      <td>11.99000</td>\n",
       "      <td>6500.0</td>\n",
       "      <td>O</td>\n",
       "    </tr>\n",
       "    <tr>\n",
       "      <th>4</th>\n",
       "      <td>5</td>\n",
       "      <td>11.500</td>\n",
       "      <td>11.69000</td>\n",
       "      <td>6494.0</td>\n",
       "      <td>O</td>\n",
       "    </tr>\n",
       "  </tbody>\n",
       "</table>\n",
       "</div>"
      ],
      "text/plain": [
       "   Case_ID  sale price in $100000  list price in $100000   taxes location\n",
       "0        1                 16.750               15.99000  6683.0        O\n",
       "1        2                  9.300                9.99999  6119.0        O\n",
       "2        3                 10.380               10.80000  6477.0        O\n",
       "3        4                 11.325               11.99000  6500.0        O\n",
       "4        5                 11.500               11.69000  6494.0        O"
      ]
     },
     "execution_count": 3,
     "metadata": {},
     "output_type": "execute_result"
    }
   ],
   "source": [
    "df = pd.read_csv(\"reale.csv\")\n",
    "df.head()"
   ]
  },
  {
   "cell_type": "markdown",
   "metadata": {},
   "source": [
    "We want to see how many rows/columns are in the original dataset. From below, we see that there are 163 rows and 5 columns."
   ]
  },
  {
   "cell_type": "code",
   "execution_count": 4,
   "metadata": {},
   "outputs": [
    {
     "data": {
      "text/plain": [
       "(163, 5)"
      ]
     },
     "execution_count": 4,
     "metadata": {},
     "output_type": "execute_result"
    }
   ],
   "source": [
    "df.shape"
   ]
  },
  {
   "cell_type": "code",
   "execution_count": 5,
   "metadata": {},
   "outputs": [
    {
     "data": {
      "text/html": [
       "<div>\n",
       "<style scoped>\n",
       "    .dataframe tbody tr th:only-of-type {\n",
       "        vertical-align: middle;\n",
       "    }\n",
       "\n",
       "    .dataframe tbody tr th {\n",
       "        vertical-align: top;\n",
       "    }\n",
       "\n",
       "    .dataframe thead th {\n",
       "        text-align: right;\n",
       "    }\n",
       "</style>\n",
       "<table border=\"1\" class=\"dataframe\">\n",
       "  <thead>\n",
       "    <tr style=\"text-align: right;\">\n",
       "      <th></th>\n",
       "      <th>Case_ID</th>\n",
       "      <th>sale_price</th>\n",
       "      <th>list_price</th>\n",
       "      <th>taxes</th>\n",
       "      <th>location</th>\n",
       "    </tr>\n",
       "  </thead>\n",
       "  <tbody>\n",
       "    <tr>\n",
       "      <th>0</th>\n",
       "      <td>1</td>\n",
       "      <td>16.750</td>\n",
       "      <td>15.99000</td>\n",
       "      <td>6683.0</td>\n",
       "      <td>O</td>\n",
       "    </tr>\n",
       "    <tr>\n",
       "      <th>1</th>\n",
       "      <td>2</td>\n",
       "      <td>9.300</td>\n",
       "      <td>9.99999</td>\n",
       "      <td>6119.0</td>\n",
       "      <td>O</td>\n",
       "    </tr>\n",
       "    <tr>\n",
       "      <th>2</th>\n",
       "      <td>3</td>\n",
       "      <td>10.380</td>\n",
       "      <td>10.80000</td>\n",
       "      <td>6477.0</td>\n",
       "      <td>O</td>\n",
       "    </tr>\n",
       "    <tr>\n",
       "      <th>3</th>\n",
       "      <td>4</td>\n",
       "      <td>11.325</td>\n",
       "      <td>11.99000</td>\n",
       "      <td>6500.0</td>\n",
       "      <td>O</td>\n",
       "    </tr>\n",
       "    <tr>\n",
       "      <th>4</th>\n",
       "      <td>5</td>\n",
       "      <td>11.500</td>\n",
       "      <td>11.69000</td>\n",
       "      <td>6494.0</td>\n",
       "      <td>O</td>\n",
       "    </tr>\n",
       "  </tbody>\n",
       "</table>\n",
       "</div>"
      ],
      "text/plain": [
       "   Case_ID  sale_price  list_price   taxes location\n",
       "0        1      16.750    15.99000  6683.0        O\n",
       "1        2       9.300     9.99999  6119.0        O\n",
       "2        3      10.380    10.80000  6477.0        O\n",
       "3        4      11.325    11.99000  6500.0        O\n",
       "4        5      11.500    11.69000  6494.0        O"
      ]
     },
     "execution_count": 5,
     "metadata": {},
     "output_type": "execute_result"
    }
   ],
   "source": [
    "realdf = df.rename(columns={'sale price in $100000': 'sale_price', 'list price in $100000': 'list_price'})\n",
    "realdf.head()"
   ]
  },
  {
   "cell_type": "markdown",
   "metadata": {},
   "source": [
    "<h3> Data Exploration and Cleaning"
   ]
  },
  {
   "cell_type": "code",
   "execution_count": 6,
   "metadata": {},
   "outputs": [
    {
     "data": {
      "image/png": "[encoded data removed]",
      "text/plain": [
       "<Figure size 648x144 with 1 Axes>"
      ]
     },
     "metadata": {
      "needs_background": "light"
     },
     "output_type": "display_data"
    }
   ],
   "source": [
    "plt.figure(figsize =(9,2))\n",
    "sns.boxplot(x='sale_price', color=\"#E9A7FD\", data=realdf)\n",
    "plt.title(\"Boxplot of Sale Price\")\n",
    "plt.xlabel(\"Sale Prices in $100000\")\n",
    "plt.show()"
   ]
  },
  {
   "cell_type": "markdown",
   "metadata": {},
   "source": [
    "Here we can see that the minimum and maximum points are well out of the range of the rest of the other datapoints and thus it is reasonable to remove them from the dataset. We first find these minimum and maximum values."
   ]
  },
  {
   "cell_type": "code",
   "execution_count": 7,
   "metadata": {},
   "outputs": [
    {
     "data": {
      "text/plain": [
       "(161, 5)"
      ]
     },
     "execution_count": 7,
     "metadata": {},
     "output_type": "execute_result"
    }
   ],
   "source": [
    "#find the min & max prices\n",
    "min_price=realdf['sale_price'].min()\n",
    "max_price=realdf['sale_price'].max()\n",
    "#drop the min & max prices\n",
    "realdf.drop(realdf.loc[realdf['sale_price']==min_price].index, inplace=True)\n",
    "realdf.drop(realdf.loc[realdf['sale_price']==max_price].index, inplace=True)\n",
    "#make sure the 2 rows were removed.\n",
    "realdf.shape"
   ]
  },
  {
   "cell_type": "code",
   "execution_count": 67,
   "metadata": {},
   "outputs": [
    {
     "data": {
      "image/png": "[encoded data removed]",
      "text/plain": [
       "<Figure size 576x288 with 3 Axes>"
      ]
     },
     "metadata": {
      "needs_background": "light"
     },
     "output_type": "display_data"
    }
   ],
   "source": [
    "np.warnings.filterwarnings('ignore')\n",
    "fig, axs = plt.subplots(1, 3, figsize = (8,4))\n",
    "axs[0].hist(realdf['list_price'], color = \"lightblue\")\n",
    "axs[0].set_title(\"Histogram of List Price \\n in $100000\")\n",
    "axs[1].hist(realdf['sale_price'], color = \"#E9A7FD\")\n",
    "axs[1].set_title(\"Histogram of Sale Price \\n in $100000\")\n",
    "axs[2].hist(realdf['taxes'], color = \"pink\")\n",
    "axs[2].set_title(\"Histogram of Taxes\")\n",
    "fig.tight_layout()"
   ]
  },
  {
   "cell_type": "markdown",
   "metadata": {},
   "source": [
    "Now, we examine the variables 'list_price' and 'taxes' to see which is more reasonable to use as a predictor variable. We do this by drawing a scatterplot of the response variable, 'sale_price', against the two variables individually, and observing how linear the relationship is between them. "
   ]
  },
  {
   "cell_type": "code",
   "execution_count": 68,
   "metadata": {},
   "outputs": [
    {
     "data": {
      "image/png": "[encoded data removed]",
      "text/plain": [
       "<Figure size 504x432 with 2 Axes>"
      ]
     },
     "metadata": {
      "needs_background": "light"
     },
     "output_type": "display_data"
    }
   ],
   "source": [
    "import matplotlib.patches as mpatches\n",
    "fig, axs = plt.subplots(1,2, figsize = (7,6))\n",
    "\n",
    "colors = {'X':'#FFC425', 'O':'#9FD38A'}\n",
    "\n",
    "axs[0].scatter(realdf['list_price'], realdf['sale_price'], c=realdf['location'].apply(lambda x: colors[x]))\n",
    "axs[0].set_title(\"Scatterplot of Sale Price vs List Price\")\n",
    "axs[0].set(xlabel=\"List Price in $100000\", ylabel=\"Sale Price in $100000\")\n",
    "\n",
    "axs[1].scatter(realdf['taxes'], realdf['sale_price'], c=realdf['location'].apply(lambda x: colors[x]))\n",
    "axs[1].set_title(\"Scatterplot of Sale Price vs Taxes\")\n",
    "axs[1].set(xlabel=\"Taxes\", ylabel=\"Sale Price in $100000\")\n",
    "\n",
    "# build the legend\n",
    "red_patch = mpatches.Patch(color='#FFC425', label='X')\n",
    "blue_patch = mpatches.Patch(color='#9FD38A', label='O')\n",
    "patches = [red_patch, blue_patch]\n",
    "fig.legend(handles=patches,bbox_to_anchor=(1.05, 1), loc=2, borderaxespad=0., title = \"Neighborhood\")\n",
    "\n",
    "#show plots\n",
    "fig.tight_layout()"
   ]
  },
  {
   "cell_type": "markdown",
   "metadata": {},
   "source": [
    "Both are generally linear so linear is a good model for both; however, sale price vs list price is more linear so we will use this one for our model since it will result in a more accurate model."
   ]
  },
  {
   "cell_type": "markdown",
   "metadata": {},
   "source": [
    "<h3> Creating Testing and Training Sets </h3>\n",
    "We'll use 'train_test_split' from sklearn.model_selection"
   ]
  },
  {
   "cell_type": "code",
   "execution_count": 69,
   "metadata": {},
   "outputs": [
    {
     "name": "stdout",
     "output_type": "stream",
     "text": [
      "     list_price  sale_price\n",
      "80     14.65000    13.70000\n",
      "19      9.88888     9.99888\n",
      "74      9.80000     9.50000\n",
      "133    16.48000    15.75000\n",
      "16     17.99000    17.55000\n",
      "60     13.29000    12.69500\n",
      "     list_price  sale_price\n",
      "112     8.24990        8.65\n",
      "114     8.98000        8.90\n",
      "145    13.80000       13.80\n",
      "7       8.99900        8.50\n",
      "44      9.99999        9.75\n",
      "107    12.58888       12.55\n"
     ]
    }
   ],
   "source": [
    "x_train, x_test, y_train, y_test = train_test_split(realdf[['list_price']], realdf[['sale_price']], test_size = 0.2, random_state = 0)\n",
    "\n",
    "# put training and test data into single dataframe\n",
    "training_set = pd.concat([x_train, y_train], axis=1)\n",
    "test_set = pd.concat([x_test, y_test], axis=1)\n",
    "\n",
    "#quickly glimpse the data\n",
    "print(training_set[0:6])\n",
    "print(test_set[0:6])"
   ]
  },
  {
   "cell_type": "markdown",
   "metadata": {},
   "source": [
    "<h3> Train Data to Make Predictions </h3>"
   ]
  },
  {
   "cell_type": "code",
   "execution_count": 70,
   "metadata": {},
   "outputs": [
    {
     "name": "stdout",
     "output_type": "stream",
     "text": [
      "[[0.92033843]]\n",
      "[0.58908141]\n"
     ]
    }
   ],
   "source": [
    "lr = LinearRegression()\n",
    "\n",
    "lr.fit(x_train, y_train) #train model with training data\n",
    "\n",
    "print(lr.coef_)\n",
    "print(lr.intercept_)\n",
    "\n",
    "#use trained model to make predictions with test data\n",
    "predictions = lr.predict(x_test)\n",
    "\n",
    "diff = y_test - predictions"
   ]
  },
  {
   "cell_type": "markdown",
   "metadata": {},
   "source": [
    "<h3> Model Evaluation </h3>"
   ]
  },
  {
   "cell_type": "code",
   "execution_count": 71,
   "metadata": {},
   "outputs": [
    {
     "data": {
      "text/plain": [
       "Text(0, 0.5, 'Y axis label')"
      ]
     },
     "execution_count": 71,
     "metadata": {},
     "output_type": "execute_result"
    },
    {
     "data": {
      "image/png": "[encoded data removed]",
      "text/plain": [
       "<Figure size 432x288 with 1 Axes>"
      ]
     },
     "metadata": {
      "needs_background": "light"
     },
     "output_type": "display_data"
    }
   ],
   "source": [
    "#visualize difference in true values (y_test) vs the predicted values using x_test\n",
    "plt.scatter(y_test, predictions)\n",
    "plt.title(\"Predicted vs Actual Values\")\n",
    "plt.xlabel(\"X axis label\")\n",
    "plt.ylabel(\"Y axis label\")"
   ]
  },
  {
   "cell_type": "markdown",
   "metadata": {},
   "source": [
    "Here, we see that the plotted points follow straight line. This shows that the model gives good prediction since there is little difference between predicted and true values."
   ]
  },
  {
   "cell_type": "code",
   "execution_count": 72,
   "metadata": {},
   "outputs": [
    {
     "name": "stdout",
     "output_type": "stream",
     "text": [
      "0.2678379903733646 0.11079168050396031 0.3328538425554981\n"
     ]
    }
   ],
   "source": [
    "from sklearn import metrics\n",
    "\n",
    "#evaluate model based on metrics\n",
    "mae = metrics.mean_absolute_error(y_test, predictions)\n",
    "mse = metrics.mean_squared_error(y_test, predictions)\n",
    "sqrt_mse = np.sqrt(metrics.mean_squared_error(y_test, predictions))\n",
    "print(mae,mse,sqrt_mse)"
   ]
  },
  {
   "cell_type": "markdown",
   "metadata": {},
   "source": [
    "The low Mean Absolute Error, Mean Squared Error, and Root Mean Squared Error further reinfornce that this is a good model because there is little difference between the prediction and the actual value."
   ]
  },
  {
   "cell_type": "markdown",
   "metadata": {},
   "source": [
    "<h3> Improvements </h3>\n",
    "While this predictive model seems very accurate with the low error values, it is built on a dataset with only 163 data points. Currently, the very low error rates could be due to the low sample size, and may change with more data points. To improve the quality of this model, and get a larger scope of the housing market and its sale prices, we can use a larger dataset."
   ]
  },
  {
   "cell_type": "code",
   "execution_count": null,
   "metadata": {},
   "outputs": [],
   "source": []
  }
 ],
 "metadata": {
  "kernelspec": {
   "display_name": "Python 3",
   "language": "python",
   "name": "python3"
  },
  "language_info": {
   "codemirror_mode": {
    "name": "ipython",
    "version": 3
   },
   "file_extension": ".py",
   "mimetype": "text/x-python",
   "name": "python",
   "nbconvert_exporter": "python",
   "pygments_lexer": "ipython3",
   "version": "3.8.3"
  }
 },
 "nbformat": 4,
 "nbformat_minor": 4
}
